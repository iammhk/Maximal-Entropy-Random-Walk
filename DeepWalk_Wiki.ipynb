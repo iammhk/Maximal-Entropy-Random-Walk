{
  "nbformat": 4,
  "nbformat_minor": 0,
  "metadata": {
    "colab": {
      "name": "DeepWalk_Wiki.ipynb",
      "provenance": [],
      "authorship_tag": "ABX9TyNTxFFgqG4bsCZ9dAEA6aji",
      "include_colab_link": true
    },
    "kernelspec": {
      "name": "python3",
      "display_name": "Python 3"
    },
    "language_info": {
      "name": "python"
    }
  },
  "cells": [
    {
      "cell_type": "markdown",
      "metadata": {
        "id": "view-in-github",
        "colab_type": "text"
      },
      "source": [
        "<a href=\"https://colab.research.google.com/github/iammhk/Maximal-Entropy-Random-Walk/blob/master/DeepWalk_Wiki.ipynb\" target=\"_parent\"><img src=\"https://colab.research.google.com/assets/colab-badge.svg\" alt=\"Open In Colab\"/></a>"
      ]
    },
    {
      "cell_type": "code",
      "execution_count": 9,
      "metadata": {
        "id": "0jGEhp4bdzPh"
      },
      "outputs": [],
      "source": [
        "import networkx as nx\n",
        "import pandas as pd\n",
        "import numpy as np\n",
        "import random\n",
        "from tqdm import tqdm\n",
        "from sklearn.decomposition import PCA\n",
        "import matplotlib.pyplot as plt\n",
        "from gensim.models import Word2Vec\n",
        "from gensim.models.callbacks import CallbackAny2Vec\n",
        "import warnings\n",
        "from pylab import figure\n",
        "warnings.filterwarnings('ignore')"
      ]
    },
    {
      "cell_type": "code",
      "source": [
        "np.random.seed(14)\n",
        "random.seed(14)\n",
        "df = pd.read_csv(\"phy.tsv\", sep = \"\\t\")\n",
        "df.head()\n",
        "\n",
        "G = nx.from_pandas_edgelist(df, \"source\", \"target\", edge_attr=True, create_using=nx.Graph())\n",
        "print(len(G))\n"
      ],
      "metadata": {
        "colab": {
          "base_uri": "https://localhost:8080/"
        },
        "id": "HfI3vSchew_D",
        "outputId": "0badc4cc-72ec-4cae-fca5-4f68de4445d6"
      },
      "execution_count": 10,
      "outputs": [
        {
          "output_type": "stream",
          "name": "stdout",
          "text": [
            "945\n"
          ]
        }
      ]
    },
    {
      "cell_type": "code",
      "source": [
        "def plot_nodes(word_list):\n",
        "    X = model.wv[word_list]\n",
        "\n",
        "    # reduce dimensions to 2\n",
        "    pca = PCA(n_components=2)\n",
        "    result = pca.fit_transform(X)\n",
        "\n",
        "    plt.figure(figsize=(12, 9))\n",
        "    # create a scatter plot of the projection\n",
        "    plt.scatter(result[:, 0], result[:, 1])\n",
        "    for i, word in enumerate(word_list):\n",
        "        plt.annotate(word, xy=(result[i, 0], result[i, 1]))\n",
        "\n",
        "    plt.show()\n",
        "\n",
        "\n",
        "def plot_nodes3d(word_list):\n",
        "    X = model.wv[word_list]\n",
        "\n",
        "    # reduce dimensions to 2\n",
        "    pca = PCA(n_components=3)\n",
        "    result = pca.fit_transform(X)\n",
        "\n",
        "    fig = figure()\n",
        "    ax = fig.add_subplot(projection='3d')\n",
        "\n",
        "    # create a scatter plot of the projection\n",
        "    #plt.scatter(result[:, 0], result[:, 1], result[:, 2])\n",
        "    for i, word in enumerate(word_list):\n",
        "        ax.scatter(result[i, 0], result[i, 1], result[i, 2], color='b')\n",
        "        ax.text(result[i, 0], result[i, 1], result[i, 2], '%s' % (word), size=8, zorder=1,\n",
        "                color='k')\n",
        "\n",
        "\n",
        "    plt.show()\n",
        "\n",
        "class MonitorCallback(CallbackAny2Vec):\n",
        "    def __init__(self, test_words):\n",
        "        self._test_words = test_words\n",
        "\n",
        "    def on_epoch_end(self, model):\n",
        "        print(\"Model loss:\", model.get_latest_training_loss())  # print loss\n",
        "        for word in self._test_words:  # show wv logic changes\n",
        "            print(model.wv.most_similar(word))\n",
        "\n",
        "def get_randomwalk(node, path_length):\n",
        "    random_walk = [node]\n",
        "\n",
        "    for i in range(path_length - 1):\n",
        "        temp = list(G.neighbors(node))\n",
        "        temp = list(set(temp) - set(random_walk))\n",
        "        if len(temp) == 0:\n",
        "            break\n",
        "\n",
        "        random_node = random.choice(temp)\n",
        "        random_walk.append(random_node)\n",
        "        node = random_node\n",
        "\n",
        "    return random_walk"
      ],
      "metadata": {
        "id": "aASQfy7Me0Ys"
      },
      "execution_count": 11,
      "outputs": []
    },
    {
      "cell_type": "code",
      "source": [
        "# get list of all nodes from the graph\n",
        "all_nodes = list(G.nodes())\n",
        "print(all_nodes)\n",
        "random_walks = []\n",
        "for n in tqdm(all_nodes):\n",
        "    for i in range(5):\n",
        "        random_walks.append(get_randomwalk(n, 10))\n",
        "\n",
        "# count of sequences\n",
        "print(len(random_walks))\n",
        "\n"
      ],
      "metadata": {
        "id": "ExSYrE30e3i8"
      },
      "execution_count": null,
      "outputs": []
    },
    {
      "cell_type": "code",
      "source": [
        "# monitor with demo words for loss\n",
        "#monitor = MonitorCallback(['space law', 'metalaw', 'moon treaty'])\n",
        "\n",
        "# train skip-gram (word2vec) model\n",
        "model = Word2Vec(window = 4, sg = 1, hs = 0,\n",
        "                 negative = 10, # for negative sampling\n",
        "                 alpha=0.03, min_alpha=0.0007,\n",
        "                 seed = 14, compute_loss=True)\n",
        "\n",
        "model.build_vocab(random_walks, progress_per=2)\n",
        "\n",
        "model.train(random_walks, total_examples = model.corpus_count, epochs=1000, report_delay=1)\n",
        "\n",
        "# getting the training loss value\n",
        "training_loss = model.get_latest_training_loss()\n",
        "print(\"Loss:\",training_loss)\n",
        "#print(model.similar_by_word('space tourism'))\n",
        "\n",
        "#model.wv.evaluate_word_analogies(datapath('questions-words.txt'))\n",
        "\n",
        "terms=['spacetime', 'special relativity', 'minkowski space', 'poincaré group', 'history of electromagnetism', 'electromagnetic spectrum', 'permittivity', 'solenoid', \t'big bang', 'history of astronomy',\t'cosmology', 'principia mathematica', 'golden ratio', 'introduction to mathematical philosophy']\n",
        "#for i in range(20):    terms.append(all_nodes[np.random.randint(len(all_nodes))])\n",
        "\n",
        "\n",
        "plot_nodes(terms)"
      ],
      "metadata": {
        "colab": {
          "base_uri": "https://localhost:8080/",
          "height": 554
        },
        "id": "hL4EsUE8g8Ud",
        "outputId": "6e66e92e-4795-4b21-979d-b2d9d40121fe"
      },
      "execution_count": 13,
      "outputs": [
        {
          "output_type": "stream",
          "name": "stdout",
          "text": [
            "Loss: 0.0\n"
          ]
        },
        {
          "output_type": "display_data",
          "data": {
            "image/png": "[encoded data removed]",
            "text/plain": [
              "<Figure size 864x648 with 1 Axes>"
            ]
          },
          "metadata": {
            "needs_background": "light"
          }
        }
      ]
    }
  ]
}